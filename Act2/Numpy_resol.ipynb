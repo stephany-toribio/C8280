{
  "cells": [
    {
      "cell_type": "markdown",
      "metadata": {
        "id": "view-in-github",
        "colab_type": "text"
      },
      "source": [
        "<a href=\"https://colab.research.google.com/github/stephany-toribio/C8280/blob/main/Numpy_res.ipynb\" target=\"_parent\"><img src=\"https://colab.research.google.com/assets/colab-badge.svg\" alt=\"Open In Colab\"/></a>"
      ]
    },
    {
      "cell_type": "markdown",
      "metadata": {
        "id": "g5p1zhVdHRJH"
      },
      "source": [
        "## Numpy\n",
        "\n",
        "NumPy es la librería central para computación científica en Python. Proporciona un objeto de matriz multidimensional de alto rendimiento y herramientas para trabajar con estas matrices.\n",
        "\n",
        "#### Matrices\n",
        "\n",
        "Una matriz NumPy es una colección de valores de tipos de datos similares y está indexada por una tupla de números no negativos. El rango de la matriz es el número de dimensiones, y la forma de una matriz es una tupla de números que dan el tamaño de la matriz a lo largo de cada dimensión.\n"
      ]
    },
    {
      "cell_type": "code",
      "execution_count": 2,
      "metadata": {
        "id": "fEYOnETfqaMK",
        "outputId": "d3eeeb64-7263-4eb5-b689-27764b363097",
        "colab": {
          "base_uri": "https://localhost:8080/"
        }
      },
      "outputs": [
        {
          "output_type": "stream",
          "name": "stdout",
          "text": [
            "El menor tiempo esta en la funcion: lista_python\n"
          ]
        }
      ],
      "source": [
        "# Ejemplo\n",
        "from __future__ import division\n",
        "import time\n",
        "import numpy as np\n",
        "\n",
        "\n",
        "tam_vec = 1000\n",
        "def lista_python():\n",
        "    '''Tiempo de demora en ejecutar una suma de listas'''\n",
        "    t1 = time.time()\n",
        "    X = range(tam_vec)\n",
        "    Y = range(tam_vec)\n",
        "    Z = []\n",
        "    for i in range(len(X)):\n",
        "        Z.append(X[i] + Y[i])\n",
        "    return time.time() - t1\n",
        "\n",
        "def matriz_numpy():\n",
        "    '''Tiempo de demora en ejecutar una suma de matrices numpy'''\n",
        "    t1 = time.time()\n",
        "    X = np.arange(tam_vec)\n",
        "    Y = np.arange(tam_vec)\n",
        "    Z = X + Y\n",
        "    return time.time() - t1\n",
        "\n",
        "print('El menor tiempo esta en la funcion:', 'lista_python' if lista_python() < matriz_numpy()\n",
        "else 'matriz_numpy')"
      ]
    },
    {
      "cell_type": "code",
      "execution_count": 26,
      "metadata": {
        "id": "OufDp2ReqaMM"
      },
      "outputs": [],
      "source": [
        "#import numpy\n",
        "#numpy.__version__"
      ]
    },
    {
      "cell_type": "markdown",
      "metadata": {
        "id": "BhyocdoIqaMM"
      },
      "source": [
        "Podemos inicializar matrices NumPy a partir de listas de Python anidadas y acceder a los elementos mediante corchetes."
      ]
    },
    {
      "cell_type": "code",
      "execution_count": null,
      "metadata": {
        "id": "oV13ZLdhqaMN",
        "outputId": "e71d6d56-951f-4187-fb54-de4a4315447a",
        "colab": {
          "base_uri": "https://localhost:8080/"
        }
      },
      "outputs": [
        {
          "output_type": "stream",
          "name": "stdout",
          "text": [
            "<class 'numpy.ndarray'>\n",
            "(3,)\n",
            "0\n",
            "1\n",
            "2\n",
            "[5 1 2]\n"
          ]
        }
      ],
      "source": [
        "import numpy as np\n",
        "\n",
        "# Creamos una matriz de rango 1\n",
        "a = np.array([0, 1, 2])\n",
        "print(type(a))\n",
        "\n",
        "# Imprimimos la dimension de la matriz\n",
        "print(a.shape)\n",
        "print(a[0])\n",
        "print(a[1])\n",
        "print(a[2])\n",
        "\n",
        "# Cambiamos un elemento de un array\n",
        "a[0] = 5\n",
        "print(a)"
      ]
    },
    {
      "cell_type": "code",
      "source": [
        "def matriz_np():\n",
        "    '''Matriz con valores aleatorios'''\n",
        "    a = np.empty([3, 3], dtype=np.int8)\n",
        "    return a\n",
        "\n",
        "def type_np():\n",
        "    '''Devuelve el tipo de dato del objeto'''\n",
        "    print(matriz_np())\n",
        "    print(type(matriz_np()))\n",
        "\n",
        "type_np()"
      ],
      "metadata": {
        "colab": {
          "base_uri": "https://localhost:8080/"
        },
        "id": "Eb8xVs1GE4s2",
        "outputId": "838a2702-4d72-4584-e905-f8735386a78e"
      },
      "execution_count": null,
      "outputs": [
        {
          "output_type": "stream",
          "name": "stdout",
          "text": [
            "[[  48 -127   17]\n",
            " [   2    0    0]\n",
            " [   0    0    0]]\n",
            "<class 'numpy.ndarray'>\n"
          ]
        }
      ]
    },
    {
      "cell_type": "code",
      "execution_count": null,
      "metadata": {
        "id": "AM3wLIGFqaMN",
        "outputId": "faaa3c1d-d1b3-41ae-f98f-1d5d75138b70",
        "colab": {
          "base_uri": "https://localhost:8080/"
        }
      },
      "outputs": [
        {
          "output_type": "stream",
          "name": "stdout",
          "text": [
            "(2, 3)\n",
            "[[0 1 2]\n",
            " [3 4 5]]\n",
            "0 1 3\n"
          ]
        }
      ],
      "source": [
        "# Creamos una matriz de rango 2\n",
        "b = np.array([[0,1,2],[3,4,5]])\n",
        "print (b.shape)\n",
        "print (b)\n",
        "print (b[0, 0], b[0, 1], b[1, 0])"
      ]
    },
    {
      "cell_type": "code",
      "source": [
        "import numpy as np\n",
        "\n",
        "def matriz():\n",
        "    '''Matriz con una secuencia de elementos establecida'''\n",
        "    m = np.array([[0,1,2],[3,4,5]])\n",
        "    return m\n",
        "\n",
        "def shape_np():\n",
        "    '''Devuelve la forma de una matriz'''\n",
        "    print(matriz())\n",
        "    print(matriz().shape)\n",
        "\n",
        "def acceso_elem():\n",
        "    '''Acceder a los elemnetos de la matriz'''\n",
        "    print(matriz()[0, 0])\n",
        "    print(matriz()[1, 0])\n",
        "    print(matriz()[1, 1])\n",
        "\n",
        "shape_np()\n",
        "acceso_elem()"
      ],
      "metadata": {
        "colab": {
          "base_uri": "https://localhost:8080/"
        },
        "id": "TOv0dRIHGaZE",
        "outputId": "797a080c-dad1-4731-b6d7-12a4736be29c"
      },
      "execution_count": null,
      "outputs": [
        {
          "output_type": "stream",
          "name": "stdout",
          "text": [
            "[[0 1 2]\n",
            " [3 4 5]]\n",
            "(2, 3)\n",
            "0\n",
            "3\n",
            "4\n"
          ]
        }
      ]
    },
    {
      "cell_type": "markdown",
      "metadata": {
        "id": "pNtk4_8UqaMO"
      },
      "source": [
        "### Creación de una matriz NumPy\n",
        "\n",
        "NumPy también proporciona muchas funciones integradas para crear matrices. La mejor manera de aprender esto es a través de ejemplos, así que pasemos al código."
      ]
    },
    {
      "cell_type": "code",
      "execution_count": null,
      "metadata": {
        "id": "NyYKtrrGqaMP",
        "outputId": "7e643db2-ce74-4882-ebe7-cf10facbc532",
        "colab": {
          "base_uri": "https://localhost:8080/"
        }
      },
      "outputs": [
        {
          "output_type": "stream",
          "name": "stdout",
          "text": [
            "[[0. 0. 0.]\n",
            " [0. 0. 0.]\n",
            " [0. 0. 0.]]\n"
          ]
        }
      ],
      "source": [
        "# Creamos una matriz 3x3 de todos ceros\n",
        "a = np.zeros((3,3))\n",
        "print (a)"
      ]
    },
    {
      "cell_type": "code",
      "source": [
        "import numpy as np\n",
        "import random\n",
        "\n",
        "def matriz():\n",
        "    '''Devuelve una nueva matriz de forma y tipo dados, llena de ceros'''\n",
        "    a, b = random.randint(1, 4), random.randint(1, 4)\n",
        "    a = np.zeros((a,b))\n",
        "    return a\n",
        "\n",
        "print(matriz())"
      ],
      "metadata": {
        "colab": {
          "base_uri": "https://localhost:8080/"
        },
        "id": "2WIE9ixlKAto",
        "outputId": "f58e0dc3-455a-4a6a-cdb4-444332774b46"
      },
      "execution_count": null,
      "outputs": [
        {
          "output_type": "stream",
          "name": "stdout",
          "text": [
            "[[0.]\n",
            " [0.]\n",
            " [0.]\n",
            " [0.]]\n"
          ]
        }
      ]
    },
    {
      "cell_type": "code",
      "execution_count": null,
      "metadata": {
        "id": "mCLST8l6qaMQ",
        "outputId": "d4490b16-9cf0-464f-cae0-00f3fabe59ca",
        "colab": {
          "base_uri": "https://localhost:8080/"
        }
      },
      "outputs": [
        {
          "output_type": "stream",
          "name": "stdout",
          "text": [
            "[[1. 1.]\n",
            " [1. 1.]]\n"
          ]
        }
      ],
      "source": [
        "# Creamos una matriz 2x2 de todos 1\n",
        "b = np.ones((2,2))\n",
        "print (b)"
      ]
    },
    {
      "cell_type": "code",
      "source": [
        "import numpy as np\n",
        "import random\n",
        "\n",
        "def matriz():\n",
        "    '''Devuelve una nueva matriz de forma y tipo dados, llena de unos'''\n",
        "    a, b = random.randint(1, 3), random.randint(1, 4)\n",
        "    c = np.ones((a,b))\n",
        "    return c\n",
        "\n",
        "print(matriz())"
      ],
      "metadata": {
        "colab": {
          "base_uri": "https://localhost:8080/"
        },
        "id": "v5Ed-gTkKoS8",
        "outputId": "717ba008-b394-4c9c-91b8-fcee2364c582"
      },
      "execution_count": null,
      "outputs": [
        {
          "output_type": "stream",
          "name": "stdout",
          "text": [
            "[[1. 1.]\n",
            " [1. 1.]]\n"
          ]
        }
      ]
    },
    {
      "cell_type": "code",
      "execution_count": null,
      "metadata": {
        "id": "6CJQKnPbqaMQ",
        "outputId": "234afdbe-4f44-45c0-a1b5-b8cb8abcc04c",
        "colab": {
          "base_uri": "https://localhost:8080/"
        }
      },
      "outputs": [
        {
          "output_type": "stream",
          "name": "stdout",
          "text": [
            "[[7 7 7]\n",
            " [7 7 7]\n",
            " [7 7 7]]\n"
          ]
        }
      ],
      "source": [
        "# Creamos una matriz 3x3 constantes\n",
        "c = np.full((3,3), 7)\n",
        "print(c)"
      ]
    },
    {
      "cell_type": "code",
      "source": [
        "import numpy as np\n",
        "import random\n",
        "\n",
        "def matriz():\n",
        "    '''Retorna un arreglo NumPy con un valor específico repetido en todas sus entradas'''\n",
        "    a1, a2 = random.randint(1, 3), random.randint(1, 3)\n",
        "    num = random.randint(0, 10)\n",
        "    m = np.full((a1, a2), num)\n",
        "    return m\n",
        "\n",
        "print(matriz())"
      ],
      "metadata": {
        "colab": {
          "base_uri": "https://localhost:8080/"
        },
        "id": "wL5QPFFBLwqs",
        "outputId": "0e4a63d2-03fb-4b44-eb0b-63d4ac8f1509"
      },
      "execution_count": null,
      "outputs": [
        {
          "output_type": "stream",
          "name": "stdout",
          "text": [
            "[[5 5 5]]\n"
          ]
        }
      ]
    },
    {
      "cell_type": "code",
      "execution_count": null,
      "metadata": {
        "id": "6WrXOZLfqaMR",
        "outputId": "9760f3d7-32e1-4a16-9ab2-995f7e298b36",
        "colab": {
          "base_uri": "https://localhost:8080/"
        }
      },
      "outputs": [
        {
          "output_type": "stream",
          "name": "stdout",
          "text": [
            "[[0.00964641 0.3490857  0.82997199]\n",
            " [0.84004175 0.50760231 0.74485037]\n",
            " [0.07646817 0.62153325 0.83933783]]\n"
          ]
        }
      ],
      "source": [
        "# Creamos una matriz 3x3 con valores aleatorios\n",
        "d = np.random.random((3,3))\n",
        "print (d)"
      ]
    },
    {
      "cell_type": "code",
      "source": [
        "import numpy as np\n",
        "import random\n",
        "\n",
        "def matriz():\n",
        "    '''Devuelve flotantes aleatorios en el intervalo semiabierto'''\n",
        "    a1, a2 = random.randint(1, 3), random.randint(1, 3)\n",
        "    m = np.random.random((a1, a2))\n",
        "    print(m)\n",
        "\n",
        "matriz()"
      ],
      "metadata": {
        "colab": {
          "base_uri": "https://localhost:8080/"
        },
        "id": "twlCwit6MrVU",
        "outputId": "77b1fa9d-4f19-4bc8-efa2-8f69578ddaae"
      },
      "execution_count": null,
      "outputs": [
        {
          "output_type": "stream",
          "name": "stdout",
          "text": [
            "[[0.04190512 0.09699527]]\n"
          ]
        }
      ]
    },
    {
      "cell_type": "code",
      "execution_count": null,
      "metadata": {
        "id": "2Fh7ah1dqaMR",
        "outputId": "27b67d00-9083-4e25-9be3-aa8ae502da1f",
        "colab": {
          "base_uri": "https://localhost:8080/"
        }
      },
      "outputs": [
        {
          "output_type": "stream",
          "name": "stdout",
          "text": [
            "[[1. 0. 0.]\n",
            " [0. 1. 0.]\n",
            " [0. 0. 1.]]\n"
          ]
        }
      ],
      "source": [
        "# Creamos una matriz identidad 3x3\n",
        "e = np.eye(3)\n",
        "print(e)"
      ]
    },
    {
      "cell_type": "code",
      "source": [
        "import numpy as np\n",
        "import random\n",
        "\n",
        "def matriz():\n",
        "    '''Devuelve una matriz bidimensional con unos en la diagonal y ceros en el resto'''\n",
        "    f = random.randint(1, 3)\n",
        "    c = random.randint(1, f)\n",
        "    m = np.eye(f, c)\n",
        "    print(m)\n",
        "\n",
        "matriz()"
      ],
      "metadata": {
        "colab": {
          "base_uri": "https://localhost:8080/"
        },
        "id": "El8DU6eAN_Pj",
        "outputId": "13244926-91e8-48f6-df75-e848aeb22ed9"
      },
      "execution_count": null,
      "outputs": [
        {
          "output_type": "stream",
          "name": "stdout",
          "text": [
            "[[1.]\n",
            " [0.]\n",
            " [0.]]\n"
          ]
        }
      ]
    },
    {
      "cell_type": "code",
      "execution_count": null,
      "metadata": {
        "id": "3Z4n3uJbqaMR",
        "outputId": "db76557c-7b3a-45c3-8859-178659b8798b",
        "colab": {
          "base_uri": "https://localhost:8080/"
        }
      },
      "outputs": [
        {
          "output_type": "stream",
          "name": "stdout",
          "text": [
            "[2 3 1 0]\n"
          ]
        }
      ],
      "source": [
        "# Convertir una lista en una matriz\n",
        "f = np.array([2, 3, 1,0])\n",
        "print(f)"
      ]
    },
    {
      "cell_type": "code",
      "execution_count": null,
      "metadata": {
        "id": "tET5xDZ6qaMR",
        "outputId": "a029b507-0b95-4718-a4b7-8f3262316ce5",
        "colab": {
          "base_uri": "https://localhost:8080/"
        }
      },
      "outputs": [
        {
          "output_type": "stream",
          "name": "stdout",
          "text": [
            "[0 1 2 3 4 5]\n"
          ]
        }
      ],
      "source": [
        "# arange() crea matrices con valores que se incrementan regularmente\n",
        "n = np.arange(0, 6)\n",
        "print(n)"
      ]
    },
    {
      "cell_type": "code",
      "source": [
        "import numpy as np\n",
        "import random\n",
        "\n",
        "def matriz():\n",
        "    '''Devuelve valores espaciados uniformemente dentro de un intervalo dado'''\n",
        "    b = random.randint(2, 12)\n",
        "    m = np.arange(1, b, random.randint(1, b//2))\n",
        "    print(m)\n",
        "\n",
        "matriz()"
      ],
      "metadata": {
        "colab": {
          "base_uri": "https://localhost:8080/"
        },
        "id": "PFaKJ_SiRzeG",
        "outputId": "0c1bc773-710c-4a34-ed6e-3acfaf3ccf8a"
      },
      "execution_count": null,
      "outputs": [
        {
          "output_type": "stream",
          "name": "stdout",
          "text": [
            "[1 5 9]\n"
          ]
        }
      ]
    },
    {
      "cell_type": "code",
      "execution_count": 11,
      "metadata": {
        "id": "RuGyOhkKqaMS",
        "colab": {
          "base_uri": "https://localhost:8080/"
        },
        "outputId": "6654b8f1-3c10-4fc9-b86a-8b7611c9fcda"
      },
      "outputs": [
        {
          "output_type": "stream",
          "name": "stdout",
          "text": [
            "[[13 13 17  5  4 13  3  3  4]\n",
            " [ 3 28 25  7 27  6  3 28  5]\n",
            " [ 6  5 14  9  9  9 14  1 15]]\n"
          ]
        }
      ],
      "source": [
        "# Mezcla de tupla y listas\n",
        "import numpy as np\n",
        "import random\n",
        "\n",
        "def matriz():\n",
        "    '''Mezcla de lista y tuplas en una matriz, ten en cuenta que debe tener el mismo tamaño (long)'''\n",
        "    l1 = [random.randint(1, 20) for i in range(9)]\n",
        "    l2 = [random.randint(1, 15) for i in range(9)]\n",
        "    t = [random.randint(1, 30) for i in range(9)]\n",
        "    m = np.array([l1, tuple(t), l2])\n",
        "    print(m)\n",
        "\n",
        "matriz()"
      ]
    },
    {
      "cell_type": "code",
      "execution_count": null,
      "metadata": {
        "id": "Qqm5sInQqaMS",
        "outputId": "7866a6eb-5bab-4522-b6c0-678603f870b8",
        "colab": {
          "base_uri": "https://localhost:8080/"
        }
      },
      "outputs": [
        {
          "output_type": "stream",
          "name": "stdout",
          "text": [
            "[1. 2. 3. 4. 5. 6. 7.]\n"
          ]
        }
      ],
      "source": [
        "# Crear una matriz de rango con tipo de datos flotante\n",
        "i = np.arange(1, 8, dtype=np.float64)\n",
        "print(i)"
      ]
    },
    {
      "cell_type": "code",
      "source": [
        "import numpy as np\n",
        "import random\n",
        "\n",
        "def datos_flotantes():\n",
        "    '''Crear una matriz de rango con tipo de datos flotante'''\n",
        "    b = random.randint(2, 12)\n",
        "    options = [np.float32, np.float64]\n",
        "    m = np.arange(1, b, random.randint(1, b//2), dtype=random.choice(options))\n",
        "    print(m)\n",
        "\n",
        "datos_flotantes()"
      ],
      "metadata": {
        "colab": {
          "base_uri": "https://localhost:8080/"
        },
        "id": "Zn32qbCO1drf",
        "outputId": "6d3a9f24-0b3a-4504-ae69-819cfedc2356"
      },
      "execution_count": 13,
      "outputs": [
        {
          "output_type": "stream",
          "name": "stdout",
          "text": [
            "[1. 5. 9.]\n"
          ]
        }
      ]
    },
    {
      "cell_type": "markdown",
      "metadata": {
        "id": "Ee1Sko4QqaMS"
      },
      "source": [
        "`linspace()`  crea matrices con un numero especifico de elementos que están espaciados por igual entre los valores inicial y final especificados"
      ]
    },
    {
      "cell_type": "code",
      "execution_count": 16,
      "metadata": {
        "id": "nHza6HfaqaMT",
        "outputId": "1d07f425-4f32-417b-8e17-447e89ce51a3",
        "colab": {
          "base_uri": "https://localhost:8080/"
        }
      },
      "outputs": [
        {
          "output_type": "stream",
          "name": "stdout",
          "text": [
            "[1. 3. 5. 7. 9.]\n"
          ]
        }
      ],
      "source": [
        "r = np.linspace(1, 9, num=5)\n",
        "print(r)"
      ]
    },
    {
      "cell_type": "code",
      "source": [
        "import numpy as np\n",
        "import random\n",
        "\n",
        "def matriz():\n",
        "    '''Devuelve números espaciados uniformemente en un intervalo específico'''\n",
        "    a1, a2 = 1, random.randint(2, 10)\n",
        "    a3 = random.randint(1, a2//2)\n",
        "    flag = [True, False]\n",
        "    endpoint = random.choice(flag) if a3 > 1 else True\n",
        "    m = np.linspace(a1, a2, num=a3, endpoint=endpoint)\n",
        "    print(m)\n",
        "\n",
        "matriz()"
      ],
      "metadata": {
        "colab": {
          "base_uri": "https://localhost:8080/"
        },
        "id": "CW3TmuJ91sfF",
        "outputId": "d6284723-7556-45ec-b56b-7763d6f04746"
      },
      "execution_count": 17,
      "outputs": [
        {
          "output_type": "stream",
          "name": "stdout",
          "text": [
            "[1.  2.5]\n"
          ]
        }
      ]
    },
    {
      "cell_type": "markdown",
      "metadata": {
        "id": "FhxDR-cfqaMT"
      },
      "source": [
        "### Tipos de datos\n",
        "Una matriz es una colección de elementos del mismo tipo de datos y NumPy admite y proporciona funciones integradas para construir matrices con argumentos opcionales para especificar explícitamente los tipos de datos requeridos."
      ]
    },
    {
      "cell_type": "code",
      "execution_count": 18,
      "metadata": {
        "id": "Um_OqxjPqaMT",
        "outputId": "a2b01d88-2308-48b3-895e-9860be3b0c0b",
        "colab": {
          "base_uri": "https://localhost:8080/"
        }
      },
      "outputs": [
        {
          "output_type": "stream",
          "name": "stdout",
          "text": [
            "int64 float64 int64\n"
          ]
        }
      ],
      "source": [
        "# Numpy escoge el tipo de datos\n",
        "x = np.array([0, 1])\n",
        "y = np.array([2.0, 3.0])\n",
        "\n",
        "# Fuerza un tipo de datos en particular\n",
        "z = np.array([5, 6], dtype=np.int64)\n",
        "print (x.dtype, y.dtype, z.dtype)"
      ]
    },
    {
      "cell_type": "markdown",
      "metadata": {
        "id": "-lRfXcA7qaMT"
      },
      "source": [
        "**Ejercicio** Completa el siguiente  código."
      ]
    },
    {
      "cell_type": "code",
      "execution_count": 37,
      "metadata": {
        "id": "5ZJRGP7BqaMT",
        "outputId": "c2d1c3c7-41c3-4051-e19f-926e0b5cc288",
        "colab": {
          "base_uri": "https://localhost:8080/"
        }
      },
      "outputs": [
        {
          "output_type": "stream",
          "name": "stdout",
          "text": [
            "Ndimensional--> x1:1, x2:2, x3:3\n",
            "Dimensiones del arreglo--> x1:(6,), x2:(5, 4), x3:(2, 4, 5)\n",
            "Numero de elementos del array--> x1:6, x2:20, x3:40\n",
            "Tipo de datos de los elmentos del array--> x1:int64, x2:int64, x3:int64\n",
            "Tamaño en bytes--> x1:8, x2:8, x3:8\n",
            "Numero total de bytes usados--> x1:48, x2:160, x3:320\n",
            "-----------------------------------------------------------------\n",
            "[5 0 3 3 7 9]\n",
            "!!!!!!!!!!!!!!!!!!!!!!!!!!!!!!!!!!!!!!!!!!!!!!!!!!!!!!!!!!!!\n",
            "[[3 5 2 4]\n",
            " [7 6 8 8]\n",
            " [1 6 7 7]\n",
            " [8 1 5 9]\n",
            " [8 9 4 3]]\n",
            "!!!!!!!!!!!!!!!!!!!!!!!!!!!!!!!!!!!!!!!!!!!!!!!!!!!!!!!!!!!!\n",
            "[[[0 3 5 0 2]\n",
            "  [3 8 1 3 3]\n",
            "  [3 7 0 1 9]\n",
            "  [9 0 4 7 3]]\n",
            "\n",
            " [[2 7 2 0 0]\n",
            "  [4 5 5 6 8]\n",
            "  [4 1 4 9 8]\n",
            "  [1 1 7 9 9]]]\n"
          ]
        }
      ],
      "source": [
        "np.random.seed(0)\n",
        "\n",
        "x1 = np.random.randint(10, size=6)  # matriz 1-d\n",
        "x2 = np.random.randint(10, size=(5, 4))  # matriz-2d\n",
        "x3 = np.random.randint(10, size=(2, 4, 5)) # matriz-3d\n",
        "\n",
        "# Imprime los atributos : dim, shape, size, dtype, itemsize y nbytes\n",
        "# Completar\n",
        "print('Ndimensional--> x1:{}, x2:{}, x3:{}'.format(x1.ndim, x2.ndim, x3.ndim))\n",
        "print('Dimensiones del arreglo--> x1:{}, x2:{}, x3:{}'.format(x1.shape, x2.shape, x3.shape))\n",
        "print('Numero de elementos del array--> x1:{}, x2:{}, x3:{}'.format(x1.size, x2.size, x3.size))\n",
        "print('Tipo de datos de los elmentos del array--> x1:{}, x2:{}, x3:{}'.format(x1.dtype, x2.dtype, x3.dtype))\n",
        "print('Tamaño en bytes--> x1:{}, x2:{}, x3:{}'.format(x1.itemsize, x2.itemsize, x3.itemsize))\n",
        "print('Numero total de bytes usados--> x1:{}, x2:{}, x3:{}'.format(x1.nbytes, x2.nbytes, x3.nbytes))\n",
        "print('-'*65)\n",
        "print(x1)\n",
        "print('!'*60)\n",
        "print(x2)\n",
        "print('!'*60)\n",
        "print(x3)"
      ]
    },
    {
      "cell_type": "markdown",
      "metadata": {
        "id": "hHdZuIRlqaMU"
      },
      "source": [
        "### Indexación de matrices\n",
        "\n",
        "NumPy ofrece varias formas de indexar en matrices. La sintaxis estándar de Python `x[obj]` se puede usar para indexar la matriz NumPy, donde `x` es la matriz y `obj` es la selección.\n",
        "\n",
        "Hay tres tipos de indexación disponibles:\n",
        "\n",
        "* Acceso al campo\n",
        "\n",
        "* Recorte básico\n",
        "\n",
        "* Indexación avanzada\n",
        "\n",
        "#### Acceso al campo\n",
        "\n",
        "Si el objeto ndarray es una matriz estructurada, se puede acceder a los campos de la matriz indexando la matriz con cadenas, como un diccionario. La indexación de `x['field-name']` devuelve una nueva vista de la matriz, que tiene la misma dimensión que `x`, excepto cuando el campo es una submatriz  que contiene sólo la parte de los datos en el campo especificado. Los tipos de datos se obtienen con `x.dtype['field-name']`."
      ]
    },
    {
      "cell_type": "code",
      "execution_count": 38,
      "metadata": {
        "id": "OPuRiaI0qaMU",
        "outputId": "1abec96f-8cfe-4af9-c1fb-90c4e0f400c2",
        "colab": {
          "base_uri": "https://localhost:8080/"
        }
      },
      "outputs": [
        {
          "output_type": "stream",
          "name": "stdout",
          "text": [
            "[[(0, [[0., 0., 0.], [0., 0., 0.], [0., 0., 0.]])\n",
            "  (0, [[0., 0., 0.], [0., 0., 0.], [0., 0., 0.]])\n",
            "  (0, [[0., 0., 0.], [0., 0., 0.], [0., 0., 0.]])]\n",
            " [(0, [[0., 0., 0.], [0., 0., 0.], [0., 0., 0.]])\n",
            "  (0, [[0., 0., 0.], [0., 0., 0.], [0., 0., 0.]])\n",
            "  (0, [[0., 0., 0.], [0., 0., 0.], [0., 0., 0.]])]\n",
            " [(0, [[0., 0., 0.], [0., 0., 0.], [0., 0., 0.]])\n",
            "  (0, [[0., 0., 0.], [0., 0., 0.], [0., 0., 0.]])\n",
            "  (0, [[0., 0., 0.], [0., 0., 0.], [0., 0., 0.]])]]\n"
          ]
        }
      ],
      "source": [
        "x = np.zeros((3,3), dtype=[('a', np.int32), ('b', np.float64, (3,3))])\n",
        "print(x)"
      ]
    },
    {
      "cell_type": "code",
      "execution_count": 39,
      "metadata": {
        "id": "qn7yP1DDqaMU",
        "outputId": "587f9330-ce8e-4e79-d00c-9c01708e4fc2",
        "colab": {
          "base_uri": "https://localhost:8080/"
        }
      },
      "outputs": [
        {
          "output_type": "stream",
          "name": "stdout",
          "text": [
            "x['a'].shape:  (3, 3)\n",
            "x['a'].dtype:  int32\n",
            "x['b'].shape:  (3, 3, 3, 3)\n",
            "x['b'].dtype:  float64\n"
          ]
        }
      ],
      "source": [
        "print (\"x['a'].shape: \",x['a'].shape)\n",
        "print (\"x['a'].dtype: \", x['a'].dtype)\n",
        "\n",
        "print (\"x['b'].shape: \", x['b'].shape)\n",
        "print (\"x['b'].dtype: \", x['b'].dtype)"
      ]
    },
    {
      "cell_type": "markdown",
      "metadata": {
        "id": "CFyYL7BHqaMU"
      },
      "source": [
        "#### Recorte básico\n",
        "\n",
        "Las matrices NumPy se pueden dividir, de forma similar a las listas. Debe especificar un segmento para cada dimensión de la matriz, ya que las matrices pueden ser multidimensionales.\n",
        "\n",
        "La sintaxis de división básica es `i: j: k`, donde `i` es el índice inicial, `j` es el índice final, `k` es el paso y `k` no es igual a 0. Esto selecciona los elementos `m` en la dimensión correspondiente, con valores de índice `, i + k, ...,i + (m - 1)k` donde `m = q + (r distinto de 0)`,  `q` y `r` son el cociente y el resto se obtiene dividiendo `j - i` entre `k`: `j - i = qk + r`, de modo que `i + (m - 1) k < j`."
      ]
    },
    {
      "cell_type": "code",
      "execution_count": 40,
      "metadata": {
        "id": "gXlzcajJqaMV",
        "outputId": "057b79a7-18d4-497a-c680-2035a1f9eade",
        "colab": {
          "base_uri": "https://localhost:8080/"
        }
      },
      "outputs": [
        {
          "output_type": "execute_result",
          "data": {
            "text/plain": [
              "array([6, 7, 8, 9])"
            ]
          },
          "metadata": {},
          "execution_count": 40
        }
      ],
      "source": [
        "x = np.array([5, 6, 7, 8, 9])\n",
        "x[1:9:1]"
      ]
    },
    {
      "cell_type": "code",
      "source": [
        "def recorte():\n",
        "    x = np.array([5, 6, 7, 8, 9])\n",
        "    return x[1:9:1] #no toma al 5 porque empieza en el indice 1 x[1]\n",
        "\n",
        "print(recorte())"
      ],
      "metadata": {
        "colab": {
          "base_uri": "https://localhost:8080/"
        },
        "id": "zRq5x-W1TmXy",
        "outputId": "50f6435e-d9d6-4909-fa58-83724b8f56c7"
      },
      "execution_count": 41,
      "outputs": [
        {
          "output_type": "stream",
          "name": "stdout",
          "text": [
            "[6 7 8 9]\n"
          ]
        }
      ]
    },
    {
      "cell_type": "markdown",
      "metadata": {
        "id": "-NhBkQkcqaMV"
      },
      "source": [
        "La `k` negativa hace que los pasos vayan hacia índices más pequeños. Los `i` y `j` negativos se interpretan como `n + i` y `n + j` donde `n` es el número de elementos en la dimensión correspondiente."
      ]
    },
    {
      "cell_type": "code",
      "execution_count": 42,
      "metadata": {
        "id": "gf66zIIFqaMV",
        "outputId": "9fb0afd3-f281-4008-c6ac-1466770560b5",
        "colab": {
          "base_uri": "https://localhost:8080/"
        }
      },
      "outputs": [
        {
          "output_type": "stream",
          "name": "stdout",
          "text": [
            "[8 9]\n",
            "[9 8 7]\n"
          ]
        }
      ],
      "source": [
        "print(x[-2:5]) #-2 es 8 y continua en adelante incluyendo al 9\n",
        "print(x[-1:1:-1]) #-1 es 9 y va hasta el 1, osea 6, bajando en 1"
      ]
    },
    {
      "cell_type": "markdown",
      "metadata": {
        "id": "ZZN6H4gfqaMV"
      },
      "source": [
        "Si `n` es el número de elementos en la dimensión que se está recortando. Entonces, si no se proporciona `i`, el valor predeterminado es `0` para  `k > 0` y `n-1` para `k < 0`. Si no se proporciona `j`, el valor predeterminado es `n` para `k > 0` y `-1` para `k < 0`. Si no se proporciona `k`, el valor predeterminado es `1`. Ten en cuenta que `::` es lo mismo que `:` y significa seleccionar todos los índices a lo largo de este eje."
      ]
    },
    {
      "cell_type": "code",
      "execution_count": 43,
      "metadata": {
        "id": "P4aUAvZDqaMV",
        "outputId": "0554afa0-c073-4b1a-b5fc-2540d9893ded",
        "colab": {
          "base_uri": "https://localhost:8080/"
        }
      },
      "outputs": [
        {
          "output_type": "execute_result",
          "data": {
            "text/plain": [
              "array([9])"
            ]
          },
          "metadata": {},
          "execution_count": 43
        }
      ],
      "source": [
        "x[4:]"
      ]
    },
    {
      "cell_type": "markdown",
      "metadata": {
        "id": "LHGoBk77qaMW"
      },
      "source": [
        "Si el número de objetos en la tupla de selección es menor que N , entonces se asume `:` para cualquier dimensión subsiguiente."
      ]
    },
    {
      "cell_type": "code",
      "execution_count": 46,
      "metadata": {
        "id": "gGBsOVcTqaMW",
        "outputId": "9a2ff690-c251-4548-ac31-9771231bc2f5",
        "colab": {
          "base_uri": "https://localhost:8080/"
        }
      },
      "outputs": [
        {
          "output_type": "stream",
          "name": "stdout",
          "text": [
            "[7 8 9]\n"
          ]
        }
      ],
      "source": [
        "# Completar\n",
        "def recorte():\n",
        "    x = np.array([5, 6, 7, 8, 9])\n",
        "    print(x[2:])\n",
        "\n",
        "recorte()"
      ]
    },
    {
      "cell_type": "markdown",
      "metadata": {
        "id": "kWkK2ssnqaMW"
      },
      "source": [
        "Los puntos suspensivos se expanden al número de : objetos necesarios para hacer una tupla de selección de la misma longitud que `x.ndim`. Solo puede haber una sola elipsis presente."
      ]
    },
    {
      "cell_type": "code",
      "execution_count": 47,
      "metadata": {
        "id": "9EhQ_hm1qaMW",
        "outputId": "48b7324c-8632-4eee-cb95-09c74d4dc132",
        "colab": {
          "base_uri": "https://localhost:8080/"
        }
      },
      "outputs": [
        {
          "output_type": "stream",
          "name": "stdout",
          "text": [
            "[5 6 7 8 9]\n"
          ]
        }
      ],
      "source": [
        "print(x)"
      ]
    },
    {
      "cell_type": "code",
      "execution_count": 50,
      "metadata": {
        "id": "L36IfJr7qaMX",
        "outputId": "7bf24aaa-0264-42ca-eb29-375e0a0ba754",
        "colab": {
          "base_uri": "https://localhost:8080/"
        }
      },
      "outputs": [
        {
          "output_type": "execute_result",
          "data": {
            "text/plain": [
              "array(5)"
            ]
          },
          "metadata": {},
          "execution_count": 50
        }
      ],
      "source": [
        "x[...,0] #se usa en arreglos multidimensionales para seleccionar una parte específica del arreglo en dimensiones subsiguientes"
      ]
    },
    {
      "cell_type": "code",
      "source": [
        "x[2,...]"
      ],
      "metadata": {
        "colab": {
          "base_uri": "https://localhost:8080/"
        },
        "id": "uz2bjRt1WwjD",
        "outputId": "42a0a53f-81a6-46f8-db6a-9b4406b83fd2"
      },
      "execution_count": 51,
      "outputs": [
        {
          "output_type": "execute_result",
          "data": {
            "text/plain": [
              "array(7)"
            ]
          },
          "metadata": {},
          "execution_count": 51
        }
      ]
    },
    {
      "cell_type": "markdown",
      "metadata": {
        "id": "HroUqdKDqaMX"
      },
      "source": [
        "#### Ejercicio\n",
        "\n",
        "1. Crea una matriz de rango `2` con dimension `(3, 4)`\n",
        "\n",
        "2. Usa el recorte para extraer la submatriz que consta de las primeras `2` filas y las columnas `1` y `2`.\n",
        "\n",
        "3. Una parte de una matriz es solo una vista de los mismos datos, comprueba quecualquier modificación modificará la matriz original.\n",
        "\n"
      ]
    },
    {
      "cell_type": "code",
      "source": [
        "import numpy as np\n",
        "\n",
        "def m():\n",
        "    m = np.empty([3, 4], dtype=np.int8)\n",
        "    return m\n",
        "\n",
        "def espaciado():\n",
        "  print('-'*25)\n",
        "\n",
        "def rango_dimension():\n",
        "  print('Rango: ', m().ndim)\n",
        "  print('Dimension: ', m().shape)\n",
        "\n",
        "def recorte():\n",
        "  return m()[:2, :2] #se pone 2 es porque es 1 despues\n",
        "\n",
        "def modificacion():\n",
        "  copia = m().copy()\n",
        "  m()[1, 2] = 16\n",
        "  print(copia)\n",
        "  print('*'*20)\n",
        "  print(m())\n",
        "  print(copia == m())\n",
        "\n",
        "print(m())\n",
        "espaciado()\n",
        "rango_dimension()\n",
        "espaciado()\n",
        "print(recorte())\n",
        "espaciado()\n",
        "modificacion()"
      ],
      "metadata": {
        "colab": {
          "base_uri": "https://localhost:8080/"
        },
        "id": "22f2uMciZcdQ",
        "outputId": "13d8282d-8456-4087-a8d0-47b47d5da1c7"
      },
      "execution_count": 3,
      "outputs": [
        {
          "output_type": "stream",
          "name": "stdout",
          "text": [
            "[[32 -2 74  1]\n",
            " [ 0  0  0  0]\n",
            " [ 0  0  0  0]]\n",
            "-------------------------\n",
            "Rango:  2\n",
            "Dimension:  (3, 4)\n",
            "-------------------------\n",
            "[[32 -2]\n",
            " [ 0  0]]\n",
            "-------------------------\n",
            "[[32 -2 74  1]\n",
            " [ 0  0  0  0]\n",
            " [ 0  0  0  0]]\n",
            "********************\n",
            "[[32 -2 74  1]\n",
            " [ 0  0 16  0]\n",
            " [ 0  0  0  0]]\n",
            "[[ True  True  True  True]\n",
            " [ True  True False  True]\n",
            " [ True  True  True  True]]\n"
          ]
        }
      ]
    },
    {
      "cell_type": "code",
      "execution_count": 10,
      "metadata": {
        "id": "SO70Y-ssqaMX",
        "outputId": "a8c373f5-8405-45ca-97b6-b14aca47de84",
        "colab": {
          "base_uri": "https://localhost:8080/"
        }
      },
      "outputs": [
        {
          "output_type": "stream",
          "name": "stdout",
          "text": [
            "[[ 0  3  6  9]\n",
            " [ 8  4  2  0]\n",
            " [ 6  5 12 13]]\n"
          ]
        }
      ],
      "source": [
        "m = np.array([[0, 3, 6, 9], [8, 4, 2, 0], [6, 5, 12, 13]])\n",
        "print(m)"
      ]
    },
    {
      "cell_type": "code",
      "source": [
        "m[:2, :2] #primeras 2 filas y columna 1 y 2"
      ],
      "metadata": {
        "id": "wpA6iI6ORkgc",
        "outputId": "90f25daa-6b57-4505-c570-534c2f2fee58",
        "colab": {
          "base_uri": "https://localhost:8080/"
        }
      },
      "execution_count": 11,
      "outputs": [
        {
          "output_type": "execute_result",
          "data": {
            "text/plain": [
              "array([[0, 3],\n",
              "       [8, 4]])"
            ]
          },
          "metadata": {},
          "execution_count": 11
        }
      ]
    },
    {
      "cell_type": "code",
      "source": [
        "m[1, 2] = 16\n",
        "print(m)"
      ],
      "metadata": {
        "id": "uZW2f9vhS3ON",
        "outputId": "3e87a809-6d9e-4342-c87a-aedf180dc1c1",
        "colab": {
          "base_uri": "https://localhost:8080/"
        }
      },
      "execution_count": null,
      "outputs": [
        {
          "output_type": "stream",
          "name": "stdout",
          "text": [
            "[[ 0  3  6  9]\n",
            " [ 8  4 16  0]\n",
            " [ 6  5 12 13]]\n"
          ]
        }
      ]
    },
    {
      "cell_type": "markdown",
      "metadata": {
        "id": "Pw-VG8JqqaMX"
      },
      "source": [
        "Se puede acceder a la matriz de la fila central de dos maneras.\n",
        "\n",
        "* Las partes junto con la indexación de enteros darán como resultado una matriz de rango inferior.\n",
        "\n",
        "* El uso de solo recortes dará como resultado el mismo rango matriz."
      ]
    },
    {
      "cell_type": "code",
      "execution_count": null,
      "metadata": {
        "id": "W1ddrRz4qaMY",
        "outputId": "ba225725-6459-476a-9a54-0c2ee003085b",
        "colab": {
          "base_uri": "https://localhost:8080/"
        }
      },
      "outputs": [
        {
          "output_type": "stream",
          "name": "stdout",
          "text": [
            "[[ 1  2  3  4]\n",
            " [ 5  6  7  8]\n",
            " [ 9 10 11 12]]\n"
          ]
        }
      ],
      "source": [
        "# Creamos una matriz de rango 2 array con dimensión (3, 4)\n",
        "a = np.array([[1,2,3,4], [5,6,7,8], [9,10,11,12]])\n",
        "print (a)"
      ]
    },
    {
      "cell_type": "markdown",
      "metadata": {
        "id": "LYSx-APpqaMY"
      },
      "source": [
        "Dos formas de acceder a los datos en la fila central de la matriz. La combinación de la indexación de enteros con recortes produce una matriz de menor rango, mientras que el uso de solo recortes produce una matriz del mismo rango que la matriz original:"
      ]
    },
    {
      "cell_type": "code",
      "execution_count": null,
      "metadata": {
        "id": "c3xFq81hqaMY",
        "outputId": "dd9a4100-d870-411b-c6cc-8a5234572e97",
        "colab": {
          "base_uri": "https://localhost:8080/"
        }
      },
      "outputs": [
        {
          "output_type": "stream",
          "name": "stdout",
          "text": [
            "[5 6 7 8] (4,)\n",
            "[[5 6 7 8]] (1, 4)\n",
            "[[5 6 7 8]] (1, 4)\n"
          ]
        }
      ],
      "source": [
        "fila_r1 = a[1, :]    # Vista de rango 1 de la segunda fila de a\n",
        "fila_r2 = a[1:2, :]  # Vista de rango 2 de la segunda fila de a\n",
        "fila_r3 = a[[1], :]  # Vista de ranfo 2 de la segunda fila de a\n",
        "print (fila_r1, fila_r1.shape)\n",
        "print (fila_r2, fila_r2.shape)\n",
        "print (fila_r3, fila_r3.shape)"
      ]
    },
    {
      "cell_type": "markdown",
      "metadata": {
        "id": "iYqVtaD6qaMY"
      },
      "source": [
        "Podemos hacer la misma distinción al acceder a las columnas de una matriz."
      ]
    },
    {
      "cell_type": "code",
      "execution_count": null,
      "metadata": {
        "id": "PJAluA4FqaMY",
        "outputId": "015607ed-7a04-4163-bedc-3855187e5f35",
        "colab": {
          "base_uri": "https://localhost:8080/"
        }
      },
      "outputs": [
        {
          "output_type": "stream",
          "name": "stdout",
          "text": [
            "[ 2  6 10] (3,)\n",
            "[[ 2]\n",
            " [ 6]\n",
            " [10]] (3, 1)\n"
          ]
        }
      ],
      "source": [
        "col_r1 = a[:, 1]\n",
        "col_r2 = a[:, 1:2]\n",
        "print (col_r1, col_r1.shape)\n",
        "print (col_r2, col_r2.shape)"
      ]
    },
    {
      "cell_type": "markdown",
      "metadata": {
        "id": "PMt05HC7qaMZ"
      },
      "source": [
        "### Indexación avanzada\n"
      ]
    },
    {
      "cell_type": "code",
      "execution_count": null,
      "metadata": {
        "id": "-l49FKg_qaMZ",
        "outputId": "9973b24a-517e-49cc-afa8-2ec7cdb626e3",
        "colab": {
          "base_uri": "https://localhost:8080/"
        }
      },
      "outputs": [
        {
          "output_type": "stream",
          "name": "stdout",
          "text": [
            "[1 4]\n"
          ]
        }
      ],
      "source": [
        "a = np.array([[1,2], [3, 4]])\n",
        "print (a[[0, 1], [0, 1]])\n",
        "\n",
        "# El ejemplo de indexacion de una matriz entera es equivalente a esto:\n"
      ]
    },
    {
      "cell_type": "markdown",
      "metadata": {
        "id": "6NwtylSHqaMZ"
      },
      "source": [
        "Al usar la indexacion de un matriz de enteros, puede reutilizar el mismo elemento de la matriz de origen:"
      ]
    },
    {
      "cell_type": "code",
      "execution_count": null,
      "metadata": {
        "id": "uAmd3gFYqaMZ",
        "outputId": "8820be1c-f802-4aa9-e36e-f132701f9acb",
        "colab": {
          "base_uri": "https://localhost:8080/"
        }
      },
      "outputs": [
        {
          "output_type": "stream",
          "name": "stdout",
          "text": [
            "[2 2]\n"
          ]
        }
      ],
      "source": [
        "print (a[[0, 0], [1, 1]])\n",
        "\n",
        "# Equivalente al ejemplo de indexacion de matriz de enteros\n"
      ]
    },
    {
      "cell_type": "markdown",
      "metadata": {
        "id": "FOVCDT4tqaMZ"
      },
      "source": [
        "Un asunto  importante y extremadamente útil acerca de los recortes de una  matriz es que devuelven  *vistas (`views`)* en lugar de *copias (`copies`)*  de los datos de la matriz. Este es un área en la que NumPy  difiere de la lista de Python:  en las listas, estas son copias."
      ]
    },
    {
      "cell_type": "code",
      "execution_count": null,
      "metadata": {
        "id": "BR_5P6aJqaMa",
        "outputId": "f5050980-8b5e-44b8-cb89-ab74417cce2f",
        "colab": {
          "base_uri": "https://localhost:8080/"
        }
      },
      "outputs": [
        {
          "output_type": "execute_result",
          "data": {
            "text/plain": [
              "array([[5, 0, 3, 3],\n",
              "       [7, 9, 3, 5],\n",
              "       [2, 4, 7, 6],\n",
              "       [8, 8, 1, 6],\n",
              "       [7, 7, 8, 1]])"
            ]
          },
          "metadata": {},
          "execution_count": 85
        }
      ],
      "source": [
        "np.random.seed(0)\n",
        "x2 = np.random.randint(10, size=(5, 4))\n",
        "x2"
      ]
    },
    {
      "cell_type": "code",
      "source": [
        "np.random.seed(0)\n",
        "l = np.random.randint(12, size=(3, 3))\n",
        "print(l)"
      ],
      "metadata": {
        "id": "EoJjCGtvVyyX",
        "outputId": "acb83989-5627-4e1b-eee6-4678cbfe1d63",
        "colab": {
          "base_uri": "https://localhost:8080/"
        }
      },
      "execution_count": null,
      "outputs": [
        {
          "output_type": "stream",
          "name": "stdout",
          "text": [
            "[[ 5  0  3]\n",
            " [11  3  7]\n",
            " [ 9  3  5]]\n"
          ]
        }
      ]
    },
    {
      "cell_type": "code",
      "execution_count": null,
      "metadata": {
        "id": "-J15zJjXqaMa",
        "outputId": "5ed0bc04-6edc-44b5-d36c-fdbf38647d52",
        "colab": {
          "base_uri": "https://localhost:8080/"
        }
      },
      "outputs": [
        {
          "output_type": "stream",
          "name": "stdout",
          "text": [
            "[[5 0]\n",
            " [7 9]]\n"
          ]
        }
      ],
      "source": [
        "x2_sub = x2[:2, :2]\n",
        "print(x2_sub)"
      ]
    },
    {
      "cell_type": "code",
      "source": [
        "print(l[1:, 1:])"
      ],
      "metadata": {
        "id": "_Lcf0cbnWfbY",
        "outputId": "9a28e2ab-3d0d-44d8-ad3c-cbea09634354",
        "colab": {
          "base_uri": "https://localhost:8080/"
        }
      },
      "execution_count": null,
      "outputs": [
        {
          "output_type": "stream",
          "name": "stdout",
          "text": [
            "[[3 7]\n",
            " [3 5]]\n"
          ]
        }
      ]
    },
    {
      "cell_type": "code",
      "execution_count": null,
      "metadata": {
        "id": "jZwufbuwqaMa",
        "outputId": "f0d55d40-1449-436f-8fad-4e3506abac9f",
        "colab": {
          "base_uri": "https://localhost:8080/"
        }
      },
      "outputs": [
        {
          "output_type": "stream",
          "name": "stdout",
          "text": [
            "[[99  0]\n",
            " [ 7  9]]\n"
          ]
        }
      ],
      "source": [
        "x2_sub[0, 0] = 99\n",
        "print(x2_sub)"
      ]
    },
    {
      "cell_type": "code",
      "source": [
        "l[1:2, 1:2] = 23\n",
        "print(l)"
      ],
      "metadata": {
        "id": "ct9wTnzhXSmE",
        "outputId": "6e7ccd8f-b66a-4f5b-abf1-8ef1704cf633",
        "colab": {
          "base_uri": "https://localhost:8080/"
        }
      },
      "execution_count": null,
      "outputs": [
        {
          "output_type": "stream",
          "name": "stdout",
          "text": [
            "[[ 5  0  3]\n",
            " [11 23  7]\n",
            " [ 9  3  5]]\n"
          ]
        }
      ]
    },
    {
      "cell_type": "markdown",
      "metadata": {
        "id": "44JeYQoZqaMa"
      },
      "source": [
        "Este comportamiento predeterminado es realmente muy útil: significa que cuando trabajamos con grandes conjuntos de datos, podemos acceder y procesar partes de estos conjuntos de datos sin necesidad de copiar el búfer de datos.\n",
        "\n",
        "A pesar de las características  de las `vistas` de una  matriz, a veces es útil copiar de forma explícita los datos dentro de una matriz o una submatriz. Esto se puede hacer  con el método `copy()`:"
      ]
    },
    {
      "cell_type": "code",
      "execution_count": null,
      "metadata": {
        "id": "x_pEqBRWqaMb",
        "outputId": "028ced15-be0f-4e5f-b167-d1395e9a5c5c",
        "colab": {
          "base_uri": "https://localhost:8080/"
        }
      },
      "outputs": [
        {
          "output_type": "stream",
          "name": "stdout",
          "text": [
            "[[99  0]\n",
            " [ 7  9]]\n"
          ]
        }
      ],
      "source": [
        "x2_sub_copy = x2[:2, :2].copy()\n",
        "print(x2_sub_copy)"
      ]
    },
    {
      "cell_type": "code",
      "execution_count": null,
      "metadata": {
        "id": "GtNYYOe5qaMb",
        "outputId": "ef34d31f-8867-47e8-f057-18e6c0823390",
        "colab": {
          "base_uri": "https://localhost:8080/"
        }
      },
      "outputs": [
        {
          "output_type": "stream",
          "name": "stdout",
          "text": [
            "[[42  0]\n",
            " [ 7  9]]\n"
          ]
        }
      ],
      "source": [
        "x2_sub_copy[0, 0] = 42\n",
        "print(x2_sub_copy)"
      ]
    },
    {
      "cell_type": "code",
      "execution_count": null,
      "metadata": {
        "id": "e7MCSsi3qaMb",
        "outputId": "88a313b2-ffb7-4e97-8938-cf5d58b44ea4",
        "colab": {
          "base_uri": "https://localhost:8080/"
        }
      },
      "outputs": [
        {
          "output_type": "stream",
          "name": "stdout",
          "text": [
            "[[99  0  3  3]\n",
            " [ 7  9  3  5]\n",
            " [ 2  4  7  6]\n",
            " [ 8  8  1  6]\n",
            " [ 7  7  8  1]]\n"
          ]
        }
      ],
      "source": [
        "print(x2)"
      ]
    },
    {
      "cell_type": "markdown",
      "metadata": {
        "id": "ujejSPYnHRJ2"
      },
      "source": [
        "### Reshaping"
      ]
    },
    {
      "cell_type": "code",
      "execution_count": null,
      "metadata": {
        "id": "RGpuTWaTHRJ2",
        "outputId": "078fa6c3-db3a-4358-b348-cdbf70e0cd9a",
        "colab": {
          "base_uri": "https://localhost:8080/"
        }
      },
      "outputs": [
        {
          "output_type": "stream",
          "name": "stdout",
          "text": [
            "[[1 2 3]\n",
            " [4 5 6]\n",
            " [7 8 9]]\n"
          ]
        }
      ],
      "source": [
        "x4 = np.arange(1, 10).reshape((3, 3))\n",
        "print(x4)"
      ]
    },
    {
      "cell_type": "code",
      "source": [
        "m6 = np.arange(1, 17).reshape((4, 4))\n",
        "m6"
      ],
      "metadata": {
        "id": "qTWhePDlZJGU",
        "outputId": "0c215c61-1f71-4a9c-8815-a5927f417f7b",
        "colab": {
          "base_uri": "https://localhost:8080/"
        }
      },
      "execution_count": null,
      "outputs": [
        {
          "output_type": "execute_result",
          "data": {
            "text/plain": [
              "array([[ 1,  2,  3,  4],\n",
              "       [ 5,  6,  7,  8],\n",
              "       [ 9, 10, 11, 12],\n",
              "       [13, 14, 15, 16]])"
            ]
          },
          "metadata": {},
          "execution_count": 120
        }
      ]
    },
    {
      "cell_type": "markdown",
      "metadata": {
        "id": "RU_ETRzWHRJ2"
      },
      "source": [
        "Ten en cuenta que para que esto funcione, el tamaño de la matriz inicial debe coincidir con el tamaño de la matriz rediseñada. Siempre que sea posible, el método `reshape` utilizará una `vista` sin copia de la matriz inicial.\n",
        "\n",
        "Otro patrón de `reshaping `, es la conversión de una matriz unidimensional en una fila o columna de una matriz bidimensional. Esto se puede hacer con el método `reshape`  o más fácilmente haciendo uso de `newaxis` dentro de una operación de división:"
      ]
    },
    {
      "cell_type": "code",
      "execution_count": null,
      "metadata": {
        "id": "b-LEzn0SHRJ3"
      },
      "outputs": [],
      "source": [
        "x5 = np.array([1, 2, 3])\n",
        "x5"
      ]
    },
    {
      "cell_type": "code",
      "execution_count": null,
      "metadata": {
        "id": "p4UfmxWjHRJ3"
      },
      "outputs": [],
      "source": [
        "# vector fila via reshape\n",
        "# completar"
      ]
    },
    {
      "cell_type": "code",
      "execution_count": null,
      "metadata": {
        "id": "Pv8bWknUHRJ3"
      },
      "outputs": [],
      "source": [
        "# vector fila con newaxis\n",
        "# completar"
      ]
    },
    {
      "cell_type": "code",
      "execution_count": null,
      "metadata": {
        "id": "Q2pcC_zfHRJ4"
      },
      "outputs": [],
      "source": [
        "# vector columna via reshape\n",
        "# completar"
      ]
    },
    {
      "cell_type": "code",
      "execution_count": null,
      "metadata": {
        "id": "HcVHXqr-HRJ4"
      },
      "outputs": [],
      "source": [
        "# vector columna con newaxis\n",
        "# completar"
      ]
    },
    {
      "cell_type": "markdown",
      "metadata": {
        "collapsed": true,
        "id": "YzFU6QFlHRJ4"
      },
      "source": [
        "### Concatenación y  separación\n"
      ]
    },
    {
      "cell_type": "code",
      "execution_count": null,
      "metadata": {
        "id": "sViXchcIHRJ5"
      },
      "outputs": [],
      "source": [
        "x = np.array([4, 5, 6])\n",
        "y = np.array([7, 8, 9])\n",
        "np.concatenate([x, y])"
      ]
    },
    {
      "cell_type": "code",
      "execution_count": null,
      "metadata": {
        "id": "9P1oTO3SHRJ5"
      },
      "outputs": [],
      "source": [
        "# concatenacion de dos o mas matrices\n",
        "z = [99, 99, 99]\n",
        "print(np.concatenate([x, y, z]))"
      ]
    },
    {
      "cell_type": "code",
      "execution_count": null,
      "metadata": {
        "id": "ExC9DeMgHRJ5"
      },
      "outputs": [],
      "source": [
        "# concatendo una matriz dos veces\n",
        "grid = np.array([[1, 2, 3],\n",
        "                 [4, 5, 6]])\n",
        "np.concatenate([grid, grid])"
      ]
    },
    {
      "cell_type": "markdown",
      "metadata": {
        "id": "FV3TV1wgHRJ6"
      },
      "source": [
        "Para trabajar con matrices de distintas dimensiones, se usan las funciones `vstack` y `hstack`:"
      ]
    },
    {
      "cell_type": "code",
      "execution_count": null,
      "metadata": {
        "id": "JXqPVFAeHRJ6"
      },
      "outputs": [],
      "source": [
        "x = np.array([0, 1, 2])\n",
        "grid = np.array([[3, 4, 5],\n",
        "                 [6, 5, 4]])\n",
        "\n",
        "# Se junta la matriz de manera vertical\n",
        "# Completar"
      ]
    },
    {
      "cell_type": "code",
      "execution_count": null,
      "metadata": {
        "id": "tx_sdnkxHRJ7"
      },
      "outputs": [],
      "source": [
        "# Se junta la matriz de manera horizontal\n",
        "y = np.array([[23],\n",
        "              [23]])\n",
        "# Completar"
      ]
    },
    {
      "cell_type": "markdown",
      "metadata": {
        "collapsed": true,
        "id": "0GWOBZtIHRJ7"
      },
      "source": [
        "Lo contrario de la concatenación es la división o separación, que es implementado por las funciones `np.split`, `np.hsplit` y `np.vsplit`. Para cada uno de estas funciones , podemos pasar una lista de índices que dan los puntos de división.\n",
        "\n",
        "Ver:[https://numpy.org/doc/stable/reference/generated/numpy.split.html](https://numpy.org/doc/stable/reference/generated/numpy.split.html)"
      ]
    },
    {
      "cell_type": "code",
      "execution_count": null,
      "metadata": {
        "id": "gkXomQdcHRJ7"
      },
      "outputs": [],
      "source": [
        "x = [1, 2, 3, 44, 95, 3, 2, 1]\n",
        "x1, x2, x3 = np.split(x, [3, 5])\n",
        "print(x1, x2, x3)"
      ]
    },
    {
      "cell_type": "code",
      "execution_count": null,
      "metadata": {
        "id": "N3db3D7cHRJ7"
      },
      "outputs": [],
      "source": [
        "grid = np.arange(16).reshape((4, 4))\n",
        "grid"
      ]
    },
    {
      "cell_type": "code",
      "execution_count": null,
      "metadata": {
        "id": "-1wFFEyfHRJ8"
      },
      "outputs": [],
      "source": [
        "grid1, grid2 = np.vsplit(grid, [2])\n",
        "print(grid1)\n",
        "print(grid2)"
      ]
    },
    {
      "cell_type": "code",
      "execution_count": null,
      "metadata": {
        "id": "-QSxKWNJHRJ8"
      },
      "outputs": [],
      "source": [
        "grid3, grid4 = np.hsplit(grid,[2])\n",
        "print(grid3)\n",
        "print(grid4)"
      ]
    },
    {
      "cell_type": "markdown",
      "metadata": {
        "id": "tHP4XmEoHRKJ"
      },
      "source": [
        "### Fancy\n"
      ]
    },
    {
      "cell_type": "code",
      "execution_count": null,
      "metadata": {
        "id": "p8Sk55iPHRKK"
      },
      "outputs": [],
      "source": [
        "rand = np.random.RandomState(42)\n",
        "x = rand.randint(100, size=10)\n",
        "print(x)"
      ]
    },
    {
      "cell_type": "code",
      "execution_count": null,
      "metadata": {
        "id": "WnihK-M2HRKM"
      },
      "outputs": [],
      "source": [
        "# Accedemos a tres elementos diferentes\n",
        "[x[1], x[5], x[2]]"
      ]
    },
    {
      "cell_type": "markdown",
      "metadata": {
        "id": "avs1AUSlHRKN"
      },
      "source": [
        "Alternativamente, podemos pasar una sola lista o matriz de índices para obtener el mismo resultado:"
      ]
    },
    {
      "cell_type": "code",
      "execution_count": null,
      "metadata": {
        "id": "buKD93QUHRKN"
      },
      "outputs": [],
      "source": [
        "# Completar"
      ]
    },
    {
      "cell_type": "markdown",
      "metadata": {
        "id": "pIU1Q9zyHRKO"
      },
      "source": [
        "Cuando se utiliza fancy, la forma del resultado refleja la forma de las matrices de índice en lugar de la forma de la matriz que se indexa y trabaja  en múltiples  dimensiones:"
      ]
    },
    {
      "cell_type": "code",
      "execution_count": null,
      "metadata": {
        "id": "u4Baonx_HRKO"
      },
      "outputs": [],
      "source": [
        "# Completar"
      ]
    },
    {
      "cell_type": "code",
      "execution_count": null,
      "metadata": {
        "id": "QFPQLUylHRKO"
      },
      "outputs": [],
      "source": [
        "X = np.arange(12).reshape((3, 4))\n",
        "X"
      ]
    },
    {
      "cell_type": "markdown",
      "metadata": {
        "id": "BbqZMwVKHRKP"
      },
      "source": [
        "Al igual que con la indexación estándar, el primer índice se refiere a la fila, y el segundo a la columna:"
      ]
    },
    {
      "cell_type": "code",
      "execution_count": null,
      "metadata": {
        "id": "JOmJykqdHRKP"
      },
      "outputs": [],
      "source": [
        "fila = np.array([0, 1, 2])\n",
        "col = np.array([2, 1, 3])\n",
        "X[fila, col]"
      ]
    },
    {
      "cell_type": "markdown",
      "metadata": {
        "id": "5UbI7MM1HRKP"
      },
      "source": [
        "Observa que el primer valor en el resultado es `X[0, 2]`, el segundo es `X[1, 1]`  y el tercero es `X[2, 3]`. El emparejamiento de índices en la indexación fancy  sigue todas las reglas del broadcasting, por ejemplo, si combinamos un vector de columna y un vector de fila dentro de los índices, obtenemos un resultado bidimensional:"
      ]
    },
    {
      "cell_type": "code",
      "execution_count": null,
      "metadata": {
        "id": "ZHaBvrvmHRKQ"
      },
      "outputs": [],
      "source": [
        "# Completar"
      ]
    },
    {
      "cell_type": "markdown",
      "metadata": {
        "id": "UY1C8fh7HRKQ"
      },
      "source": [
        "Aquí, cada valor de fila se empareja con cada vector de columna, exactamente como se hace en broadcasting  de operaciones aritméticas. Por ejemplo:"
      ]
    },
    {
      "cell_type": "code",
      "execution_count": null,
      "metadata": {
        "id": "WlT7nSHMHRKQ"
      },
      "outputs": [],
      "source": [
        "# Completar"
      ]
    },
    {
      "cell_type": "markdown",
      "metadata": {
        "id": "3UA5Ps0cHRKd"
      },
      "source": [
        "Siempre es importante recordar que en  la indexación fancy, el valor de retorno refleja la forma del broadcasting  de los índices, en lugar de la forma de la matriz que se indexa."
      ]
    },
    {
      "cell_type": "markdown",
      "metadata": {
        "id": "QN9wN13cHRKd"
      },
      "source": [
        "Para operaciones  más potentes, la indexación adornada se puede combinar con los otros esquemas de indexación que existen:"
      ]
    },
    {
      "cell_type": "code",
      "execution_count": null,
      "metadata": {
        "id": "p_gbcz40HRKe"
      },
      "outputs": [],
      "source": [
        "# print(X)"
      ]
    },
    {
      "cell_type": "code",
      "execution_count": null,
      "metadata": {
        "id": "TEFOFrl4HRKe"
      },
      "outputs": [],
      "source": [
        "# Combinando el indexado fancy y indices simples\n",
        "# Completar"
      ]
    },
    {
      "cell_type": "code",
      "execution_count": null,
      "metadata": {
        "id": "BZcspK2-HRKe"
      },
      "outputs": [],
      "source": [
        "# Combinando el indexado fancy y el recorte\n",
        "# Completar"
      ]
    },
    {
      "cell_type": "markdown",
      "metadata": {
        "id": "O1T_gLwoHRKf"
      },
      "source": [
        "Así como el fancy  se puede utilizar para acceder a partes de una matriz, también se puede utilizar para modificar partes de una matriz. Por ejemplo, si  tenemos una matriz de índices y nos gustaría establecer los elementos correspondientes en una matriz a algún valor, podemos hacer lo siguiente:"
      ]
    },
    {
      "cell_type": "code",
      "execution_count": null,
      "metadata": {
        "id": "ye2LR3_qHRKf"
      },
      "outputs": [],
      "source": [
        "x = np.arange(10)\n",
        "i = np.array([2, 1, 8, 4])\n",
        "x[i] = 99\n",
        "print(x)"
      ]
    },
    {
      "cell_type": "markdown",
      "metadata": {
        "id": "R7FOcHtwHRKg"
      },
      "source": [
        "Los índices repetidos con estas operaciones pueden causar algunos resultados potencialmente inesperados. Considera lo siguiente:"
      ]
    },
    {
      "cell_type": "code",
      "execution_count": null,
      "metadata": {
        "id": "Ja7j27ctHRKg"
      },
      "outputs": [],
      "source": [
        "x = np.zeros(10)\n",
        "x[[0, 0]] = [4, 6]\n",
        "print(x)"
      ]
    },
    {
      "cell_type": "markdown",
      "metadata": {
        "collapsed": true,
        "id": "O3wLVTgBHRKg"
      },
      "source": [
        "El resultado de esta operación es asignar primero  `x[0] = 4`, seguido por `x[0] = 6`. Pero el resultado es que `x[0]` contiene el valor 6.\n",
        "\n",
        "Considera la siguiente operación:"
      ]
    },
    {
      "cell_type": "code",
      "execution_count": null,
      "metadata": {
        "id": "9Y9isBdeHRKg"
      },
      "outputs": [],
      "source": [
        "i = [2, 3, 3, 4, 4, 4]\n",
        "x[i] += 1\n",
        "x"
      ]
    },
    {
      "cell_type": "markdown",
      "metadata": {
        "id": "fLCn40UwHRKh"
      },
      "source": [
        "En este caso algún resultado inesperado se debe conceptualmente  a que `x[i] +=1` se entiende como una abreviatura de `x[i] = x [i] + 1`. Cuando `x[i] + 1` es evaluado el resultado es asignado  a los índices en `x` . Con esto en mente, no es que el aumento que ocurre varias veces, sino la asignación, que conduce a los resultados  no intuitivos.\n",
        "\n",
        "Si quieremos  el otro comportamiento donde se repite la operación, se puede utilizar el método `at()` de `ufuncs`:"
      ]
    },
    {
      "cell_type": "code",
      "execution_count": null,
      "metadata": {
        "id": "3rahnE5wHRKi"
      },
      "outputs": [],
      "source": [
        "# Completar"
      ]
    },
    {
      "cell_type": "markdown",
      "metadata": {
        "id": "0rziizOtHRKj"
      },
      "source": [
        "El método `at()` realiza una aplicación  del operador dado en los índices especificados (aquí, `i`) con el valor especificado (aquí, `1`)."
      ]
    },
    {
      "cell_type": "markdown",
      "metadata": {
        "id": "17TwhqScqaMm"
      },
      "source": [
        "###  Expresiones vectorizadas"
      ]
    },
    {
      "cell_type": "markdown",
      "metadata": {
        "id": "3QMUpEcqqaMn"
      },
      "source": [
        "### Agregaciones\n"
      ]
    },
    {
      "cell_type": "code",
      "execution_count": null,
      "metadata": {
        "id": "MLhcZaakqaMn"
      },
      "outputs": [],
      "source": [
        "L = np.random.random(100)\n",
        "sum(L)"
      ]
    },
    {
      "cell_type": "markdown",
      "metadata": {
        "id": "0Y_nOzbsqaMn"
      },
      "source": [
        "La sintaxis es bastante similar a la función de `sum` de  `NumPy`  y el resultado es el mismo en el caso más simple:"
      ]
    },
    {
      "cell_type": "code",
      "execution_count": null,
      "metadata": {
        "id": "WXgGIcQSqaMn"
      },
      "outputs": [],
      "source": [
        "np.sum(L)"
      ]
    },
    {
      "cell_type": "markdown",
      "metadata": {
        "id": "7FhCoi_JqaMn"
      },
      "source": [
        "Sin embargo, debido a que la operación se ejecuta  en código compilado, la versión `NumPy` de la operación se calcula mucho más rápidamente:"
      ]
    },
    {
      "cell_type": "code",
      "execution_count": null,
      "metadata": {
        "id": "L1FKgXK_qaMn"
      },
      "outputs": [],
      "source": [
        "matriz_grande = np.random.rand(1000000)\n",
        "%timeit sum(matriz_grande)\n",
        "%timeit np.sum(matriz_grande)"
      ]
    },
    {
      "cell_type": "markdown",
      "metadata": {
        "id": "7I3yj7HrqaMn"
      },
      "source": [
        "La función `sum` y la función `np.sum` no son idénticas, lo que a veces puede conducir a la confusión.  En particular, sus argumentos opcionales tienen significados diferentes  y `np.sum` es válido a  varias dimensiones de una matriz."
      ]
    },
    {
      "cell_type": "code",
      "execution_count": null,
      "metadata": {
        "id": "46tC54BJqaMn"
      },
      "outputs": [],
      "source": [
        "# Otras funciones min y max\n",
        "min(matriz_grande), max(matriz_grande)"
      ]
    },
    {
      "cell_type": "code",
      "execution_count": null,
      "metadata": {
        "id": "RcZyNPFzqaMn"
      },
      "outputs": [],
      "source": [
        "%timeit min(matriz_grande)\n",
        "%timeit np.min(matriz_grande)"
      ]
    },
    {
      "cell_type": "markdown",
      "metadata": {
        "id": "FKC12DzRqaMn"
      },
      "source": [
        "Todas estas funciones también están disponibles como métodos en la clase `ndarray`. Por ejemplo, `np.mean(data)` y `data.mean()` en el ejemplo siguiente son equivalentes:"
      ]
    },
    {
      "cell_type": "code",
      "execution_count": null,
      "metadata": {
        "id": "ubeb597jqaMn"
      },
      "outputs": [],
      "source": [
        "data = np.random.normal(size=(15, 15))\n",
        "np.mean(data)"
      ]
    },
    {
      "cell_type": "code",
      "execution_count": null,
      "metadata": {
        "id": "otNwU7ucqaMn"
      },
      "outputs": [],
      "source": [
        "data.mean()"
      ]
    },
    {
      "cell_type": "markdown",
      "metadata": {
        "id": "AK90lEACqaMn"
      },
      "source": [
        "Un tipo común de operación de agregación es un agregado a lo largo de una fila o columna."
      ]
    },
    {
      "cell_type": "code",
      "execution_count": null,
      "metadata": {
        "id": "s_Z0q4xHqaMo"
      },
      "outputs": [],
      "source": [
        "M = np.random.random((5, 6))\n",
        "print(M)"
      ]
    },
    {
      "cell_type": "markdown",
      "metadata": {
        "id": "9q0RaQs4qaMo"
      },
      "source": [
        "De forma predeterminada, cada función de agregación de  `NumPy`  devolverá el agregado sobre toda la matriz:"
      ]
    },
    {
      "cell_type": "code",
      "execution_count": null,
      "metadata": {
        "id": "Mvn_GqRDqaMo"
      },
      "outputs": [],
      "source": [
        "M.sum()"
      ]
    },
    {
      "cell_type": "markdown",
      "metadata": {
        "id": "vk6BEGcBqaMo"
      },
      "source": [
        "Las funciones de agregación toman un argumento adicional que especifica el eje a lo largo del cual se calcula el agregado. Por ejemplo, podemos encontrar el valor de la suma y el  mínimo de cada columna especificando `axis = 0`:"
      ]
    },
    {
      "cell_type": "code",
      "execution_count": null,
      "metadata": {
        "id": "m45aeskcqaMp"
      },
      "outputs": [],
      "source": [
        "M.sum(axis= 0)"
      ]
    },
    {
      "cell_type": "code",
      "execution_count": null,
      "metadata": {
        "id": "7hcqoOstqaMp"
      },
      "outputs": [],
      "source": [
        "data = np.random.normal(size=(5, 10, 15))\n",
        "data.sum(axis=0).shape"
      ]
    },
    {
      "cell_type": "code",
      "execution_count": null,
      "metadata": {
        "id": "Rp1FO9UoqaMp"
      },
      "outputs": [],
      "source": [
        "data.sum(axis=(0, 2)).shape"
      ]
    },
    {
      "cell_type": "code",
      "execution_count": null,
      "metadata": {
        "id": "aD18Ek0-qaMp"
      },
      "outputs": [],
      "source": [
        "data.sum()"
      ]
    },
    {
      "cell_type": "markdown",
      "metadata": {
        "id": "2m9jJXUYqaMp"
      },
      "source": [
        "Algunas funciones de agregación en `Numpy ` son :\n",
        "\n",
        "\n",
        "|Nombre de funcion  | VersionNaN-safe     | Descripcion                                   |\n",
        "|-------------------|---------------------|-----------------------------------------------|\n",
        "| ``np.sum``        | ``np.nansum``       | Calcula suma de elementos                     |\n",
        "| ``np.prod``       | ``np.nanprod``      | Calcula el producto de elementos              |\n",
        "| ``np.mean``       | ``np.nanmean``      | Calcula la media de elementos                 |\n",
        "| ``np.std``        | ``np.nanstd``       | Calcula la desviacion estandar                |\n",
        "| ``np.var``        | ``np.nanvar``       | Calcula la  varianza                          |\n",
        "| ``np.min``        | ``np.nanmin``       | Encuentra el minimo valor                     |\n",
        "| ``np.max``        | ``np.nanmax``       | Encuentra el maximo valor                     |\n",
        "| ``np.argmin``     | ``np.nanargmin``    | Encuenta el index del minimo valor            |\n",
        "| ``np.argmax``     | ``np.nanargmax``    | Encuentra el index del maximo valor           |\n",
        "| ``np.median``     | ``np.nanmedian``    | Calcula la mediana de elementos               |\n",
        "| ``np.percentile`` | ``np.nanpercentile``| Calcula el rango estatistico de elementos     |\n",
        "| ``np.any``        | N/A                 | Evalua si algun elemento es true              |\n",
        "| ``np.all``        | N/A                 | Evalua si todos los elementos son true        |\n",
        "\n"
      ]
    },
    {
      "cell_type": "markdown",
      "metadata": {
        "id": "2Sf0e5STqaMp"
      },
      "source": [
        "#### Broadcasting\n"
      ]
    },
    {
      "cell_type": "code",
      "execution_count": null,
      "metadata": {
        "id": "5Fm9Ue4dqaMp"
      },
      "outputs": [],
      "source": [
        "a = np.array([0, 1, 2])\n",
        "b = np.array([2, 6, 1])\n",
        "a + b"
      ]
    },
    {
      "cell_type": "markdown",
      "metadata": {
        "id": "8eGn-GPsqaMq"
      },
      "source": [
        "El  `broadcasting` permite que estos tipos de operaciones binarias se realicen en matrices de diferentes tamaños; por ejemplo, podemos añadir  un escalar (una matriz de dimensión cero) a una matriz:"
      ]
    },
    {
      "cell_type": "code",
      "execution_count": null,
      "metadata": {
        "id": "OEK6G1FPqaMq"
      },
      "outputs": [],
      "source": [
        "a + 5\n"
      ]
    },
    {
      "cell_type": "markdown",
      "metadata": {
        "id": "9ejWt-p-qaMq"
      },
      "source": [
        "Podemos extender de manera similar esto a matrices de mayor dimensión. Veamos el resultado cuando agregamos una matriz unidimensional a una matriz bidimensional:"
      ]
    },
    {
      "cell_type": "code",
      "execution_count": null,
      "metadata": {
        "id": "sWyguM0TqaMq"
      },
      "outputs": [],
      "source": [
        "A = np.arange(16).reshape(4, 4)\n",
        "b = np.arange(4)\n",
        "A"
      ]
    },
    {
      "cell_type": "code",
      "execution_count": null,
      "metadata": {
        "id": "6s2ja74PqaMr"
      },
      "outputs": [],
      "source": [
        "A + b"
      ]
    },
    {
      "cell_type": "markdown",
      "metadata": {
        "id": "UZHfVQEAqaMr"
      },
      "source": [
        "Podemos aplicar el  `broadcasting` en dos matrices. Considere el siguiente ejemplo:"
      ]
    },
    {
      "cell_type": "code",
      "execution_count": null,
      "metadata": {
        "id": "FgFkSWCRqaMr"
      },
      "outputs": [],
      "source": [
        "# Completar"
      ]
    },
    {
      "cell_type": "code",
      "execution_count": null,
      "metadata": {
        "id": "3BsOFYg_qaMr"
      },
      "outputs": [],
      "source": [
        "# Completar"
      ]
    },
    {
      "cell_type": "code",
      "execution_count": null,
      "metadata": {
        "id": "IF30FjFtqaMr"
      },
      "outputs": [],
      "source": [
        "# Completar"
      ]
    },
    {
      "cell_type": "code",
      "execution_count": null,
      "metadata": {
        "id": "hX8lxLr8qaMs"
      },
      "outputs": [],
      "source": [
        "# Completar"
      ]
    },
    {
      "cell_type": "markdown",
      "metadata": {
        "id": "44rabvtDqaMs"
      },
      "source": [
        "###  Regla del broadcasting\n",
        "\n",
        "El `broadcasting` en `NumPy` sigue un estricto conjunto de reglas para determinar la interacción entre dos matrices :\n",
        "\n",
        "* Regla 1: Si las dos matrices difieren en su número de dimensiones, la forma de la matriz que tiene menos dimensiones se rellena con unos en el lado principal (izquierdo).\n",
        "\n",
        "* Regla 2: Si la forma de los dos matrices no coincide con ninguna dimensión, la matriz con la forma igual a 1 en esa dimensión se estira para que coincida con la otra dimensión.\n",
        "\n",
        "* Regla 3: Si en cualquier dimensión los tamaños son distintos y ninguno es igual a 1, se genera un error."
      ]
    },
    {
      "cell_type": "markdown",
      "metadata": {
        "id": "cthhoMVUqaMs"
      },
      "source": [
        "### Un útil truco:"
      ]
    },
    {
      "cell_type": "code",
      "execution_count": null,
      "metadata": {
        "id": "TLkpSl3hqaMs"
      },
      "outputs": [],
      "source": [
        "J = np.arange(0, 40, 10)\n",
        "J.shape"
      ]
    },
    {
      "cell_type": "code",
      "execution_count": null,
      "metadata": {
        "id": "KhXkyiTpqaMs"
      },
      "outputs": [],
      "source": [
        "J = J[:, np.newaxis]  # agregamos un nuevo eje ->  matriz 2D\n",
        "J.shape"
      ]
    },
    {
      "cell_type": "code",
      "execution_count": null,
      "metadata": {
        "id": "Zb16ZWGsqaMs"
      },
      "outputs": [],
      "source": [
        "J"
      ]
    },
    {
      "cell_type": "code",
      "execution_count": null,
      "metadata": {
        "id": "ncQuGxd5qaMs"
      },
      "outputs": [],
      "source": [
        "J + 3"
      ]
    },
    {
      "cell_type": "markdown",
      "metadata": {
        "id": "1b5uLnfzqaMt"
      },
      "source": [
        "### Comparaciones, máscaras y lógica Booleana\n"
      ]
    },
    {
      "cell_type": "code",
      "execution_count": null,
      "metadata": {
        "id": "MeYaAuW_qaMt",
        "outputId": "c79d2dd2-e779-4690-d719-3f9ded123e37",
        "colab": {
          "base_uri": "https://localhost:8080/"
        }
      },
      "outputs": [
        {
          "output_type": "execute_result",
          "data": {
            "text/plain": [
              "array([ True,  True, False, False])"
            ]
          },
          "metadata": {},
          "execution_count": 102
        }
      ],
      "source": [
        "a1 = np.array([1, 2, 3, 4])\n",
        "b1 = np.array([4, 3, 2, 1])\n",
        "a1 < b1"
      ]
    },
    {
      "cell_type": "code",
      "execution_count": null,
      "metadata": {
        "id": "Aqhi445LqaMt",
        "outputId": "958d58d3-cb6c-4109-c9d0-3709e1486a9a",
        "colab": {
          "base_uri": "https://localhost:8080/"
        }
      },
      "outputs": [
        {
          "output_type": "execute_result",
          "data": {
            "text/plain": [
              "False"
            ]
          },
          "metadata": {},
          "execution_count": 106
        }
      ],
      "source": [
        "np.all(a1 < b1)"
      ]
    },
    {
      "cell_type": "code",
      "execution_count": null,
      "metadata": {
        "id": "Mvvqq-tyqaMt",
        "outputId": "e146b369-11eb-49a6-ada2-0ecc60aa4e86",
        "colab": {
          "base_uri": "https://localhost:8080/"
        }
      },
      "outputs": [
        {
          "output_type": "execute_result",
          "data": {
            "text/plain": [
              "True"
            ]
          },
          "metadata": {},
          "execution_count": 107
        }
      ],
      "source": [
        "np.any(a1 < b1)"
      ]
    },
    {
      "cell_type": "code",
      "execution_count": null,
      "metadata": {
        "id": "_hKNRIasqaMt",
        "outputId": "ba0a3c59-8cb8-4685-d8fb-8c0237108b72",
        "colab": {
          "base_uri": "https://localhost:8080/"
        }
      },
      "outputs": [
        {
          "output_type": "stream",
          "name": "stdout",
          "text": [
            "Algunos elementos en a1 son menores que los elementos de b1\n"
          ]
        }
      ],
      "source": [
        "if np.all(a1 < b1):\n",
        "    print(\" Todos los elementos en a1 son menores que los elementos en b1 \")\n",
        "elif np.any(a1 < b1):\n",
        "    print(\"Algunos elementos en a1 son menores que los elementos de b1\")\n",
        "else:\n",
        "    print(\"Todos los elementos en b1 son menores que los elementos de a1\")"
      ]
    },
    {
      "cell_type": "markdown",
      "metadata": {
        "id": "2nLXUCapqaMt"
      },
      "source": [
        "Al aparecer en una expresión aritmética junto con un número escalar, u otra matriz `NumPy` con un tipo de datos numéricos, una matriz booleana se convierte en una matriz numérica con valores `0` y `1` en lugar de `False` y `True`, respectivamente."
      ]
    },
    {
      "cell_type": "code",
      "execution_count": null,
      "metadata": {
        "id": "uHL9SWIVqaMu"
      },
      "outputs": [],
      "source": [
        "# Completar"
      ]
    },
    {
      "cell_type": "code",
      "execution_count": null,
      "metadata": {
        "id": "Zo0ypRZZqaMu"
      },
      "outputs": [],
      "source": [
        "# Completar"
      ]
    },
    {
      "cell_type": "code",
      "execution_count": null,
      "metadata": {
        "id": "xKfdwvatqaMu"
      },
      "outputs": [],
      "source": [
        "# Completar"
      ]
    },
    {
      "cell_type": "markdown",
      "metadata": {
        "id": "tB_6ydqXqaMu"
      },
      "source": [
        "Esta es una propiedad útil para la computación condicional, como cuando se definen funciones."
      ]
    },
    {
      "cell_type": "code",
      "execution_count": null,
      "metadata": {
        "id": "_ql1WHMbqaMu"
      },
      "outputs": [],
      "source": [
        "#def pulso(t, posicion, altura, ancho):\n",
        "#    return altura * (t >= posicion) * (t <= (posicion + ancho))\n",
        "# Completar"
      ]
    },
    {
      "cell_type": "markdown",
      "metadata": {
        "id": "VpGU0FGBqaMu"
      },
      "source": [
        "### Matrices booleanas como máscaras\n",
        "\n",
        "Revisar: [masked array](https://docs.scipy.org/doc/numpy/reference/maskedarray.html)."
      ]
    },
    {
      "cell_type": "code",
      "execution_count": null,
      "metadata": {
        "id": "4PQgtpS4qaMu"
      },
      "outputs": [],
      "source": [
        "k = np.array([1, 3, -1, 5, 7, -1])\n",
        "mask = (k < 0)\n",
        "mask"
      ]
    },
    {
      "cell_type": "code",
      "execution_count": null,
      "metadata": {
        "id": "KJ9jFSKuqaMv"
      },
      "outputs": [],
      "source": [
        "# Un ejemplo bidimensional\n",
        "rng = np.random.RandomState(0)\n",
        "z1 = rng.randint(10, size=(3, 4))\n",
        "z1"
      ]
    },
    {
      "cell_type": "code",
      "execution_count": null,
      "metadata": {
        "id": "NXAwAvs8qaMv"
      },
      "outputs": [],
      "source": [
        "# Completar"
      ]
    },
    {
      "cell_type": "markdown",
      "metadata": {
        "id": "IvBwaoXEqaMv"
      },
      "source": [
        "Ahora, para seleccionar estos valores de la matriz, podemos simplemente indexar en esta matriz booleana, esto se conoce como una operación de `enmascaramiento`:"
      ]
    },
    {
      "cell_type": "code",
      "execution_count": null,
      "metadata": {
        "id": "osgH-qNWqaMv"
      },
      "outputs": [],
      "source": [
        "# Completar"
      ]
    },
    {
      "cell_type": "markdown",
      "metadata": {
        "id": "J1tyYXNeqaMv"
      },
      "source": [
        "El siguiente ejemplo muestra cómo sumar la matriz de enmascaramiento,  donde `True` representa uno y `False` representa 0."
      ]
    },
    {
      "cell_type": "code",
      "execution_count": null,
      "metadata": {
        "id": "aTqwfAtAqaMv"
      },
      "outputs": [],
      "source": [
        "# Completar"
      ]
    },
    {
      "cell_type": "markdown",
      "metadata": {
        "id": "oqDn9SxmHRKr"
      },
      "source": [
        "### Lectura recomendada: [Numpy Reference](https://docs.scipy.org/doc/numpy/reference/)."
      ]
    },
    {
      "cell_type": "code",
      "execution_count": null,
      "metadata": {
        "id": "ZstWnij4qaMw"
      },
      "outputs": [],
      "source": []
    }
  ],
  "metadata": {
    "colab": {
      "provenance": [],
      "include_colab_link": true
    },
    "kernelspec": {
      "display_name": "Python 3",
      "language": "python",
      "name": "python3"
    },
    "language_info": {
      "codemirror_mode": {
        "name": "ipython",
        "version": 3
      },
      "file_extension": ".py",
      "mimetype": "text/x-python",
      "name": "python",
      "nbconvert_exporter": "python",
      "pygments_lexer": "ipython3",
      "version": "3.7.10"
    }
  },
  "nbformat": 4,
  "nbformat_minor": 0
}
